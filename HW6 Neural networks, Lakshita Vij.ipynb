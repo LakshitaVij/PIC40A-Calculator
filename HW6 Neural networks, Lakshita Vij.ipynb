{
 "cells": [
  {
   "cell_type": "code",
   "execution_count": 468,
   "id": "4b561f14",
   "metadata": {},
   "outputs": [],
   "source": [
    "import numpy as np\n",
    "import random\n",
    "lrate = 1"
   ]
  },
  {
   "cell_type": "code",
   "execution_count": 469,
   "id": "296ad133",
   "metadata": {},
   "outputs": [],
   "source": [
    "def activation_fn(x):\n",
    "    return 1 / (1 + np.exp(-x))"
   ]
  },
  {
   "cell_type": "code",
   "execution_count": 470,
   "id": "8ada053d",
   "metadata": {},
   "outputs": [],
   "source": [
    "def der(x):\n",
    "    return  np.exp(-x) / (1 + np.exp(-x))**2"
   ]
  },
  {
   "cell_type": "markdown",
   "id": "b1f9efa7",
   "metadata": {},
   "source": [
    "Part 1\n",
    "\n",
    "\n",
    "\n",
    "I followed the tasks specified in the homework spec to get the model to converge with SSE <= 0.01 in <1000 epochs. If code gets stuck, and theres no convergence,I rerun it with new training set until the SSE criteria is met. Finally  I will plot SSE values to see convergence and use a color map to visualize output differences."
   ]
  },
  {
   "cell_type": "code",
   "execution_count": 471,
   "id": "8b16b13b",
   "metadata": {},
   "outputs": [
    {
     "name": "stdout",
     "output_type": "stream",
     "text": [
      "[[0. 0. 1. 1. 0. 0. 1. 0.]\n",
      " [0. 0. 0. 0. 1. 1. 1. 1.]\n",
      " [1. 0. 0. 0. 0. 0. 0. 0.]\n",
      " [0. 0. 1. 0. 1. 1. 0. 0.]\n",
      " [0. 0. 1. 1. 0. 0. 1. 1.]\n",
      " [1. 1. 1. 1. 0. 0. 1. 1.]\n",
      " [1. 0. 0. 0. 1. 0. 1. 1.]\n",
      " [1. 0. 0. 1. 0. 1. 1. 0.]]\n",
      "(8, 8)\n"
     ]
    }
   ],
   "source": [
    "#STEP 2\n",
    "patterns = []\n",
    "for i in range(8):\n",
    "    pattern = np.round(np.random.rand(1,8))\n",
    "    patterns.append(pattern)\n",
    "\n",
    "patterns_array = np.concatenate(patterns, axis=0)\n",
    "patterns = np.array(patterns)\n",
    "patterns = np.squeeze(patterns)\n",
    "print(patterns_array)\n",
    "print(np.shape(patterns))"
   ]
  },
  {
   "cell_type": "code",
   "execution_count": 472,
   "id": "6faaed4c",
   "metadata": {},
   "outputs": [
    {
     "name": "stdout",
     "output_type": "stream",
     "text": [
      "Row 0 has 3 ones. Therefore it is odd \n",
      "0\n",
      "Row 1 has 4 ones. Therefore it is even.\n",
      "1\n",
      "Row 2 has 1 ones. Therefore it is odd \n",
      "0\n",
      "Row 3 has 3 ones. Therefore it is odd \n",
      "0\n",
      "Row 4 has 4 ones. Therefore it is even.\n",
      "1\n",
      "Row 5 has 6 ones. Therefore it is even.\n",
      "1\n",
      "Row 6 has 4 ones. Therefore it is even.\n",
      "1\n",
      "Row 7 has 4 ones. Therefore it is even.\n",
      "1\n",
      "The output array is [0, 1, 0, 0, 1, 1, 1, 1]\n",
      "(8,)\n"
     ]
    }
   ],
   "source": [
    "#STEP 3\n",
    "output =0\n",
    "outputCounter=[]\n",
    "for i in range(patterns.shape[0]):\n",
    "    row = patterns[i,:].ravel()  \n",
    "    ones_count = np.count_nonzero(row == 1) \n",
    "    if np.mod(ones_count, 2) == 0:\n",
    "        print(f\"Row {i} has {ones_count} ones. Therefore it is even.\")\n",
    "        output = 1 \n",
    "        outputCounter.append(output)\n",
    "        print(output)\n",
    "        \n",
    "        \n",
    "    else:\n",
    "        print(f\"Row {i} has {ones_count} ones. Therefore it is odd \")\n",
    "        output\n",
    "        outputCounter.append(output)\n",
    "        print(output)\n",
    "\n",
    "    output=0\n",
    "print(\"The output array is\",outputCounter)\n",
    "\n",
    "desired_output = np.array(outputCounter)\n",
    "print(desired_output.shape)\n",
    "    "
   ]
  },
  {
   "cell_type": "code",
   "execution_count": 473,
   "id": "8e470be1",
   "metadata": {},
   "outputs": [],
   "source": [
    "#STEP 4\n",
    "w_fg = np.random.rand(8, 3) - 0.5\n",
    "w_gh = np.random.rand(3,1) - 0.5"
   ]
  },
  {
   "cell_type": "code",
   "execution_count": 474,
   "id": "770efe3f",
   "metadata": {},
   "outputs": [
    {
     "name": "stdout",
     "output_type": "stream",
     "text": [
      "Epoch value is 0\n",
      "SSE value is -1\n",
      "Epoch value is 10\n",
      "SSE value is 1.353169583301924\n",
      "Epoch value is 20\n",
      "SSE value is 0.8590370538759877\n",
      "Epoch value is 30\n",
      "SSE value is 0.5028546579308818\n",
      "Epoch value is 40\n",
      "SSE value is 0.26857392129402147\n",
      "Epoch value is 50\n",
      "SSE value is 0.14384014647391902\n",
      "Epoch value is 60\n",
      "SSE value is 0.08156254010093583\n",
      "Epoch value is 70\n",
      "SSE value is 0.049575799379527836\n",
      "Epoch value is 80\n",
      "SSE value is 0.032178387978514605\n",
      "Epoch value is 90\n",
      "SSE value is 0.02208790699519365\n",
      "Epoch value is 100\n",
      "SSE value is 0.01587448151248538\n",
      "Epoch value is 110\n",
      "SSE value is 0.01184454893002124\n"
     ]
    }
   ],
   "source": [
    "#STEP 5\n",
    "epoch = 0\n",
    "sseArr=[]\n",
    "count=0\n",
    "outputact=[]\n",
    "traceVal = -1\n",
    "while epoch < 1001:\n",
    "    if epoch%10 == 0:\n",
    "        print(\"Epoch value is\",epoch)\n",
    "        print(\"SSE value is\",traceVal)\n",
    "    if epoch == 1000:\n",
    "        print ( \"WARNING: Model did not converge\")\n",
    "    hiddenLayer = np.matmul(patterns, w_fg)\n",
    "    hiddenLayer = activation_fn(hiddenLayer)\n",
    "    outputLayer = np.matmul(hiddenLayer, w_gh)\n",
    "    outputLayer = activation_fn(outputLayer)\n",
    "    #print(outputLayer.shape)\n",
    "    desireReshape = desired_output.reshape(8,1)\n",
    "    outputError = desireReshape  - outputLayer\n",
    "    #print(\"output layer\", outputLayer.shape)\n",
    "    #print(\"desired output\", desired_output.shape)\n",
    "    #print(\"outputerror\", outputError.shape)\n",
    "    for i in range(8):\n",
    "        wf_fg = hiddenLayer[i]\n",
    "        e= outputError[i]\n",
    "        wg_gh = outputLayer[i]\n",
    "        chunkOne = np.matmul(np.diag(der(wf_fg)), w_gh)\n",
    "        derTwo = der(wg_gh).reshape(1,1)\n",
    "        patternReshape= patterns[i].reshape(8,1)\n",
    "        chunkTwo = np.matmul(patternReshape,derTwo)\n",
    "        diff = lrate * np.matmul(chunkOne,(np.matmul(chunkTwo, np.diag(e))).T)\n",
    "        transposedDiff= diff.T\n",
    "        #print( transposedDiff.shape)\n",
    "        w_fg += transposedDiff\n",
    "        chunkThree = np.diag(der(wg_gh))\n",
    "        #print(chunkThree.shape)\n",
    "        errorReshape= e.reshape(1,1)\n",
    "        hiddenReshape = wf_fg.reshape(3,1)\n",
    "        chunkFour =np.matmul(hiddenReshape, errorReshape )\n",
    "        diffTwo = lrate*(chunkThree*chunkFour)\n",
    "        w_gh += diffTwo\n",
    "    epoch+=1\n",
    "    hiddenLayer = np.matmul(patterns, w_fg)\n",
    "    hiddenLayer = activation_fn(hiddenLayer)\n",
    "    outputLayer = np.matmul(hiddenLayer, w_gh)\n",
    "    outputLayer = activation_fn(outputLayer)\n",
    "    #print(outputLayer)\n",
    "    #print(outputLayer.shape)\n",
    "    desireReshape = desired_output.reshape(8,1)\n",
    "    outputError = desireReshape  - outputLayer\n",
    "    #print(outputError)\n",
    "    sse = outputError.T*outputError \n",
    "    #print(sse)\n",
    "    #break\n",
    "    traceVal = np.trace(sse)\n",
    "    sseArr.append(traceVal)\n",
    "    if traceVal <0.01:\n",
    "        break\n",
    "    \n",
    "    \n",
    "                         \n",
    "\n",
    " \n",
    "    \n",
    "        \n",
    "        \n",
    "        \n",
    "        \n",
    "     "
   ]
  },
  {
   "cell_type": "code",
   "execution_count": 475,
   "id": "fc579a7a",
   "metadata": {},
   "outputs": [
    {
     "data": {
      "image/png": "[encoded data removed]",
      "text/plain": [
       "<Figure size 432x288 with 1 Axes>"
      ]
     },
     "metadata": {
      "needs_background": "light"
     },
     "output_type": "display_data"
    }
   ],
   "source": [
    "import matplotlib.pyplot as plt\n",
    "\n",
    "# After the loop finishes, plot the SSE values\n",
    "plt.plot(sseArr)\n",
    "plt.title(\"SSE vs Epoch\")\n",
    "plt.xlabel(\"Epoch\")\n",
    "plt.ylabel(\"SSE\")\n",
    "plt.show()\n",
    "\n"
   ]
  },
  {
   "cell_type": "code",
   "execution_count": 476,
   "id": "4320d03f",
   "metadata": {},
   "outputs": [
    {
     "data": {
      "image/png": "[encoded data removed]",
      "text/plain": [
       "<Figure size 864x864 with 2 Axes>"
      ]
     },
     "metadata": {
      "needs_background": "light"
     },
     "output_type": "display_data"
    },
    {
     "name": "stdout",
     "output_type": "stream",
     "text": [
      "Desired Outputs: [0 1 0 0 1 1 1 1]\n",
      "Actual Outputs: [[0.06026655]\n",
      " [0.98465593]\n",
      " [0.05950977]\n",
      " [0.01319157]\n",
      " [0.97362993]\n",
      " [0.97917088]\n",
      " [0.98431421]\n",
      " [0.97046506]]\n"
     ]
    }
   ],
   "source": [
    "fig, ax2 = plt.subplots(1, 2, figsize = (12,12))\n",
    "#print(output_activation)\n",
    "desired = np.expand_dims(desired_output, axis = 0)\n",
    "ax2[0].imshow( desireReshape)\n",
    "ax2[0].set_title(\"Desired Outputs\")\n",
    "ax2[1].imshow(outputLayer)\n",
    "ax2[1].set_title(\"Actual Outputs\")\n",
    "\n",
    "#plt.colorbar(desired)\n",
    "plt.show()\n",
    "\n",
    "print(\"Desired Outputs:\", desired_output)\n",
    "print(\"Actual Outputs:\", outputLayer)"
   ]
  },
  {
   "cell_type": "markdown",
   "id": "88b6668d",
   "metadata": {},
   "source": [
    "Part 2\n",
    "\n",
    "\n",
    "To test the model created above and its generalization capabilities, we can use a new set of patterns and run them through the model without updating the weights. The sum of squared errors of the new patterns is quite a bit higher, fluctuating between 1- 4 in its value, which showcases us that this model is not the most generalizable. The model is not fully able to make correct parity judgements on its input unis, and this is even showcased by the maps, which showcase the lack of match between desired and actual outputs"
   ]
  },
  {
   "cell_type": "code",
   "execution_count": 477,
   "id": "ab0b7203",
   "metadata": {},
   "outputs": [
    {
     "name": "stdout",
     "output_type": "stream",
     "text": [
      "(8, 1)\n",
      "(8, 1)\n"
     ]
    }
   ],
   "source": [
    "output =0\n",
    "outputCounter=[]\n",
    "\n",
    "patternNew = []\n",
    "for i in range(8):\n",
    "    pattern = np.round(np.random.rand(1,8))\n",
    "    patternNew.append(pattern)\n",
    "\n",
    "patterns_array = np.concatenate(patternNew, axis=0)\n",
    "patternNew = np.array(patternNew)\n",
    "patternNew = np.squeeze(patternNew )\n",
    "\n",
    "\n",
    "desired_output = np.array([0] * patternNew.shape[0])\n",
    "\n",
    "for i in range(patternNew.shape[0]):\n",
    "    num = 0\n",
    "    for j in range(patternNew.shape[1]):\n",
    "        if patternNew[i,j] == 1:\n",
    "            num+=1\n",
    "        ans = np.mod(num,2)\n",
    "        if ans ==0:\n",
    "            desired_output[i] = 1\n",
    "        else:\n",
    "            desired_output[i] = 0\n",
    "            \n",
    "\n",
    "desireReshape = desired_output.reshape(8,1)\n",
    "\n",
    "\n",
    "hiddenLayer = np.matmul(patternNew, w_fg)\n",
    "hiddenLayer = activation_fn(hiddenLayer)\n",
    "outputLayer = np.matmul(hiddenLayer, w_gh)\n",
    "outputLayer = activation_fn(outputLayer)\n",
    "outputError = desireReshape   - outputLayer\n",
    "print(outputError.shape)\n",
    "print(outputLayer.shape)\n"
   ]
  },
  {
   "cell_type": "code",
   "execution_count": 478,
   "id": "a649aa2e",
   "metadata": {},
   "outputs": [
    {
     "name": "stdout",
     "output_type": "stream",
     "text": [
      "SSE of the newly-generated random patterns: 2.192657010493145\n"
     ]
    },
    {
     "data": {
      "image/png": "[encoded data removed]",
      "text/plain": [
       "<Figure size 864x864 with 2 Axes>"
      ]
     },
     "metadata": {
      "needs_background": "light"
     },
     "output_type": "display_data"
    },
    {
     "name": "stdout",
     "output_type": "stream",
     "text": [
      "Desired Outputs: [1 1 1 0 1 0 1 1]\n",
      "Actual Outputs: [[0.98326323]\n",
      " [0.66884768]\n",
      " [0.97917088]\n",
      " [0.828284  ]\n",
      " [0.89166288]\n",
      " [0.98387327]\n",
      " [0.97830947]\n",
      " [0.35500946]]\n"
     ]
    }
   ],
   "source": [
    "sse= np.trace(np.matmul(outputError.T,outputError))\n",
    "\n",
    "\n",
    "print(\"SSE of the newly-generated random patterns:\", sse)\n",
    "\n",
    "fig, ax2 = plt.subplots(1, 2, figsize = (12,12))\n",
    "desired = np.expand_dims(desired_output, axis = 0)\n",
    "ax2[0].imshow(desireReshape)\n",
    "ax2[0].set_title(\"Desired Outputs\")\n",
    "ax2[1].imshow(outputLayer)\n",
    "ax2[1].set_title(\"Actual Outputs\")\n",
    "\n",
    "plt.show()\n",
    "\n",
    "print(\"Desired Outputs:\", desired_output)\n",
    "print(\"Actual Outputs:\", outputLayer)"
   ]
  },
  {
   "cell_type": "code",
   "execution_count": null,
   "id": "38f22a5b",
   "metadata": {},
   "outputs": [],
   "source": []
  },
  {
   "cell_type": "code",
   "execution_count": null,
   "id": "4173f570",
   "metadata": {},
   "outputs": [],
   "source": []
  },
  {
   "cell_type": "code",
   "execution_count": null,
   "id": "4a2c2de7",
   "metadata": {},
   "outputs": [],
   "source": []
  }
 ],
 "metadata": {
  "kernelspec": {
   "display_name": "Python 3",
   "language": "python",
   "name": "python3"
  },
  "language_info": {
   "codemirror_mode": {
    "name": "ipython",
    "version": 3
   },
   "file_extension": ".py",
   "mimetype": "text/x-python",
   "name": "python",
   "nbconvert_exporter": "python",
   "pygments_lexer": "ipython3",
   "version": "3.8.8"
  }
 },
 "nbformat": 4,
 "nbformat_minor": 5
}
