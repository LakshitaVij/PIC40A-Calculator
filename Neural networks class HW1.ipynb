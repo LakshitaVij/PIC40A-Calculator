{
 "cells": [
  {
   "cell_type": "code",
   "execution_count": 15,
   "id": "80e87539",
   "metadata": {},
   "outputs": [],
   "source": [
    "#QUESTION 1\n",
    "import random \n",
    "import numpy as np\n",
    "import array\n",
    "k= []\n",
    "def random_function(a,b,c): \n",
    "    for x in range(c):\n",
    "        number = random.uniform(a,b)  #(Q1(a) the function I have used a random number in the range [a, b] drawn from a uniform distribution )\n",
    "        k.append(number)\n",
    "     \n",
    "    "
   ]
  },
  {
   "cell_type": "code",
   "execution_count": 16,
   "id": "92a26c70",
   "metadata": {},
   "outputs": [],
   "source": [
    "#(Q(1b) generating 50,000 random numbers)\n",
    "random_function(0,1,50000) "
   ]
  },
  {
   "cell_type": "code",
   "execution_count": 17,
   "id": "88ce729d",
   "metadata": {},
   "outputs": [
    {
     "data": {
      "image/png": "[encoded data removed]",
      "text/plain": [
       "<Figure size 432x288 with 1 Axes>"
      ]
     },
     "metadata": {
      "needs_background": "light"
     },
     "output_type": "display_data"
    }
   ],
   "source": [
    "#(Q(1c) Plotting the histogram for the random range of numbers)\n",
    "from matplotlib import pyplot as plt\n",
    "import numpy as np\n",
    "plt.hist(k, bins=10)\n",
    "plt.show()"
   ]
  },
  {
   "cell_type": "code",
   "execution_count": 18,
   "id": "41f4f5fc",
   "metadata": {},
   "outputs": [],
   "source": [
    "#QUESTION 2, generating random numbers from a normal distribution\n",
    "newarr=[]\n",
    "def norm_dist(t):\n",
    "    for x in range(t):\n",
    "        newNormal = np.random.normal()\n",
    "        newarr.append(newNormal)\n",
    "      "
   ]
  },
  {
   "cell_type": "code",
   "execution_count": 19,
   "id": "2cd5a530",
   "metadata": {},
   "outputs": [],
   "source": [
    "norm_dist(500000)"
   ]
  },
  {
   "cell_type": "code",
   "execution_count": 20,
   "id": "a8771744",
   "metadata": {},
   "outputs": [
    {
     "data": {
      "image/png": "[encoded data removed]",
      "text/plain": [
       "<Figure size 432x288 with 1 Axes>"
      ]
     },
     "metadata": {
      "needs_background": "light"
     },
     "output_type": "display_data"
    }
   ],
   "source": [
    "from matplotlib import pyplot as plt\n",
    "import numpy as np\n",
    "plt.hist(newarr, bins=100)\n",
    "plt.show()"
   ]
  },
  {
   "cell_type": "code",
   "execution_count": 21,
   "id": "70025570",
   "metadata": {},
   "outputs": [],
   "source": [
    "#Question 3 \n",
    "import numpy as np\n",
    "def vectorGen(c, t):\n",
    "    dotProdArr=[]\n",
    "    for x in range(t):\n",
    "            v1 = np.random.rand(c)\n",
    "            normalisedV1 = (v1) / np.linalg.norm(v1)\n",
    "            #print(normalisedV1)\n",
    "            v2 = np.random.rand(c)\n",
    "            normalisedV2 = (v2) / np.linalg.norm(v2)\n",
    "            #print(normalisedV2)\n",
    "            dotProd = np.dot(normalisedV1, normalisedV2)\n",
    "            dotProdArr.append(dotProd)\n",
    "\n",
    "    return dotProdArr\n",
    "\n",
    "\n",
    "# Question 3, word based answers \n",
    "# PART A:\n",
    "#Geometrically, it is the product of the magnitudes of the \n",
    "#two vectors multiplied by the cosine of the angle between them. \n",
    "\n",
    "\n",
    "#PART C:\n",
    "#Based on the normal distribution, the mean should be close to 0, and in my code you can see that as \n",
    "#the number of dimensions increases, the mean is getting closer and closer to 0\n",
    "\n",
    "#PART D:\n",
    "# Varience is the square of standard deviation. \n",
    "#The formula of varience is Var(X) = E[X^2] - E[X]^2 which can be written as E[(X- X(bar))^2] which is just E[(x^2)]\n",
    "# because the x bar value is zero because its normally distributed\n",
    "# This variable x represents the dot product of any two normalised vectors, (normalisedv1, normalisedv2) and since the \n",
    "#this value oscillates between -1 to 1 (due to the range cos theta) we know that E[x^2] has to be 0\n",
    "#In my code you can see that as the number of dimensions\n",
    "#increase, the standard deviation reduces and is getting closer to 0. This is the case as demonstrated from\n",
    "# dimensions 2, 3 all the way upto 1000 and 2000. The varience is also approaching 0 as the number of dimensions \n",
    "#increases, but it is doing so more rapidly than the standard deviation, as demonstrated below in my code. \n",
    "\n",
    "\n",
    "\n",
    "\n",
    "                \n",
    "\n",
    "        \n",
    "    "
   ]
  },
  {
   "cell_type": "code",
   "execution_count": 32,
   "id": "e5fd8318",
   "metadata": {},
   "outputs": [
    {
     "name": "stdout",
     "output_type": "stream",
     "text": [
      "mean: 0.8410669347188603\n",
      "standard deviation: 0.1875010683981704\n",
      "varience: 0.035156650650455375\n"
     ]
    },
    {
     "data": {
      "image/png": "[encoded data removed]",
      "text/plain": [
       "<Figure size 432x288 with 1 Axes>"
      ]
     },
     "metadata": {
      "needs_background": "light"
     },
     "output_type": "display_data"
    }
   ],
   "source": [
    "#Question 3 , dimension = 2\n",
    "DotProducts = vectorGen(2,5000)\n",
    "#print(dotProdArr)\n",
    "\n",
    "#mean and SD\n",
    "mean = np.mean(DotProducts)\n",
    "print(\"mean:\", mean)\n",
    "standard_deviation = np.std(DotProducts)\n",
    "print(\"standard deviation:\", standard_deviation)\n",
    "varience = (standard_deviation)**2\n",
    "print(\"varience:\", varience)\n",
    "\n",
    "\n",
    "\n",
    "from matplotlib import pyplot as plt\n",
    "import numpy as np\n",
    "plt.hist(DotProducts, bins=1000)\n",
    "plt.show()"
   ]
  },
  {
   "cell_type": "code",
   "execution_count": 33,
   "id": "1e85d214",
   "metadata": {},
   "outputs": [
    {
     "name": "stdout",
     "output_type": "stream",
     "text": [
      "mean: 0.79374315123928\n",
      "standard deviation: 0.17380576130872452\n",
      "varience: 0.03020844266410532\n"
     ]
    },
    {
     "data": {
      "image/png": "[encoded data removed]",
      "text/plain": [
       "<Figure size 432x288 with 1 Axes>"
      ]
     },
     "metadata": {
      "needs_background": "light"
     },
     "output_type": "display_data"
    }
   ],
   "source": [
    "#Question 3 , dimension = 3\n",
    "DotProducts = vectorGen(3,5000)\n",
    "#print(dotProdArr)\n",
    "\n",
    "#mean and SD\n",
    "mean = np.mean(DotProducts)\n",
    "print(\"mean:\", mean)\n",
    "standard_deviation = np.std(DotProducts)\n",
    "print(\"standard deviation:\", standard_deviation)\n",
    "varience = (standard_deviation)**2\n",
    "print(\"varience:\", varience)\n",
    "\n",
    "\n",
    "\n",
    "from matplotlib import pyplot as plt\n",
    "import numpy as np\n",
    "plt.hist(DotProducts, bins=1000)\n",
    "plt.show()"
   ]
  },
  {
   "cell_type": "code",
   "execution_count": 34,
   "id": "1ea80f42",
   "metadata": {},
   "outputs": [
    {
     "name": "stdout",
     "output_type": "stream",
     "text": [
      "mean: 0.7577196581133365\n",
      "standard deviation: 0.10195418782344318\n",
      "varience: 0.010394656414737928\n"
     ]
    },
    {
     "data": {
      "image/png": "[encoded data removed]",
      "text/plain": [
       "<Figure size 432x288 with 1 Axes>"
      ]
     },
     "metadata": {
      "needs_background": "light"
     },
     "output_type": "display_data"
    }
   ],
   "source": [
    "#Question 3 , dimension = 10\n",
    "DotProducts = vectorGen(10,5000)\n",
    "#print(dotProdArr)\n",
    "\n",
    "#mean and SD\n",
    "mean = np.mean(DotProducts)\n",
    "print(\"mean:\", mean)\n",
    "standard_deviation = np.std(DotProducts)\n",
    "print(\"standard deviation:\", standard_deviation)\n",
    "varience = (standard_deviation)**2\n",
    "print(\"varience:\", varience)\n",
    "\n",
    "\n",
    "\n",
    "from matplotlib import pyplot as plt\n",
    "import numpy as np\n",
    "plt.hist(DotProducts, bins=100)\n",
    "plt.show()"
   ]
  },
  {
   "cell_type": "code",
   "execution_count": 35,
   "id": "5e1e5a64",
   "metadata": {},
   "outputs": [
    {
     "name": "stdout",
     "output_type": "stream",
     "text": [
      "mean: 0.7540045221979755\n",
      "standard deviation: 0.07045288915420189\n",
      "varience: 0.004963609590174258\n"
     ]
    },
    {
     "data": {
      "image/png": "[encoded data removed]",
      "text/plain": [
       "<Figure size 432x288 with 1 Axes>"
      ]
     },
     "metadata": {
      "needs_background": "light"
     },
     "output_type": "display_data"
    }
   ],
   "source": [
    "#Question 3 , dimension = 20\n",
    "DotProducts= vectorGen(20,5000)\n",
    "#print(dotProdArr)\n",
    "\n",
    "#mean and SD\n",
    "mean = np.mean(DotProducts)\n",
    "print(\"mean:\", mean)\n",
    "standard_deviation = np.std(DotProducts)\n",
    "print(\"standard deviation:\", standard_deviation)\n",
    "varience = (standard_deviation)**2\n",
    "print(\"varience:\", varience)\n",
    "\n",
    "\n",
    "from matplotlib import pyplot as plt\n",
    "import numpy as np\n",
    "plt.hist(DotProducts, bins=100)\n",
    "plt.show()"
   ]
  },
  {
   "cell_type": "code",
   "execution_count": 36,
   "id": "277aa38b",
   "metadata": {},
   "outputs": [
    {
     "name": "stdout",
     "output_type": "stream",
     "text": [
      "mean: 0.7520283619301046\n",
      "standard deviation: 0.044828122920412466\n",
      "varience: 0.0020095606045676096\n"
     ]
    },
    {
     "data": {
      "image/png": "[encoded data removed]",
      "text/plain": [
       "<Figure size 432x288 with 1 Axes>"
      ]
     },
     "metadata": {
      "needs_background": "light"
     },
     "output_type": "display_data"
    }
   ],
   "source": [
    "#Question 3 , dimension = 50\n",
    "DotProducts= vectorGen(50,5000)\n",
    "#print(dotProdArr)\n",
    "\n",
    "#mean and SD\n",
    "mean = np.mean(DotProducts)\n",
    "print(\"mean:\", mean)\n",
    "standard_deviation = np.std(DotProducts)\n",
    "print(\"standard deviation:\", standard_deviation)\n",
    "varience = (standard_deviation)**2\n",
    "print(\"varience:\", varience)\n",
    "\n",
    "\n",
    "from matplotlib import pyplot as plt\n",
    "import numpy as np\n",
    "plt.hist(DotProducts, bins=100)\n",
    "plt.show()\n"
   ]
  },
  {
   "cell_type": "code",
   "execution_count": 37,
   "id": "38868072",
   "metadata": {},
   "outputs": [
    {
     "name": "stdout",
     "output_type": "stream",
     "text": [
      "mean: 0.750796054398946\n",
      "standard deviation: 0.0314830868467453\n",
      "varience: 0.000991184757399707\n"
     ]
    },
    {
     "data": {
      "image/png": "[encoded data removed]",
      "text/plain": [
       "<Figure size 432x288 with 1 Axes>"
      ]
     },
     "metadata": {
      "needs_background": "light"
     },
     "output_type": "display_data"
    }
   ],
   "source": [
    "#Question 3 , dimension = 100\n",
    "DotProducts = vectorGen(100,5000)\n",
    "#print(dotProdArr)\n",
    "\n",
    "#mean and SD\n",
    "mean = np.mean(DotProducts)\n",
    "print(\"mean:\", mean)\n",
    "standard_deviation = np.std(DotProducts)\n",
    "print(\"standard deviation:\", standard_deviation)\n",
    "varience = (standard_deviation)**2\n",
    "print(\"varience:\", varience)\n",
    "\n",
    "\n",
    "from matplotlib import pyplot as plt\n",
    "import numpy as np\n",
    "plt.hist(DotProducts, bins=100)\n",
    "plt.show()"
   ]
  },
  {
   "cell_type": "code",
   "execution_count": 38,
   "id": "d712bbb8",
   "metadata": {},
   "outputs": [
    {
     "name": "stdout",
     "output_type": "stream",
     "text": [
      "mean: 0.7504612637325839\n",
      "standard deviation: 0.020079456264906842\n",
      "varience: 0.00040318456389430664\n"
     ]
    },
    {
     "data": {
      "image/png": "[encoded data removed]",
      "text/plain": [
       "<Figure size 432x288 with 1 Axes>"
      ]
     },
     "metadata": {
      "needs_background": "light"
     },
     "output_type": "display_data"
    }
   ],
   "source": [
    "#Question 3 , dimension = 250\n",
    "DotProducts = vectorGen(250,5000)\n",
    "#print(dotProdArr)\n",
    "\n",
    "#mean and SD\n",
    "mean = np.mean(DotProducts)\n",
    "print(\"mean:\", mean)\n",
    "standard_deviation = np.std(DotProducts)\n",
    "print(\"standard deviation:\", standard_deviation)\n",
    "varience = (standard_deviation)**2\n",
    "print(\"varience:\", varience)\n",
    "\n",
    "\n",
    "from matplotlib import pyplot as plt\n",
    "import numpy as np\n",
    "plt.hist(DotProducts, bins=100)\n",
    "plt.show()"
   ]
  },
  {
   "cell_type": "code",
   "execution_count": 39,
   "id": "18c09977",
   "metadata": {},
   "outputs": [
    {
     "name": "stdout",
     "output_type": "stream",
     "text": [
      "mean: 0.7502599585089441\n",
      "standard deviation: 0.014060372195155397\n",
      "varience: 0.000197694066266299\n"
     ]
    },
    {
     "data": {
      "image/png": "[encoded data removed]",
      "text/plain": [
       "<Figure size 432x288 with 1 Axes>"
      ]
     },
     "metadata": {
      "needs_background": "light"
     },
     "output_type": "display_data"
    }
   ],
   "source": [
    "#Question 3 , dimension = 500\n",
    "DotProducts = vectorGen(500,5000)\n",
    "#print(dotProdArr)\n",
    "\n",
    "#mean and SD\n",
    "mean = np.mean(DotProducts)\n",
    "print(\"mean:\", mean)\n",
    "standard_deviation = np.std(DotProducts)\n",
    "print(\"standard deviation:\", standard_deviation)\n",
    "varience = (standard_deviation)**2\n",
    "print(\"varience:\", varience)\n",
    "\n",
    "\n",
    "from matplotlib import pyplot as plt\n",
    "import numpy as np\n",
    "plt.hist(DotProducts, bins=100)\n",
    "plt.show()"
   ]
  },
  {
   "cell_type": "code",
   "execution_count": 40,
   "id": "5471ca8b",
   "metadata": {},
   "outputs": [
    {
     "name": "stdout",
     "output_type": "stream",
     "text": [
      "mean: 0.7500402100091226\n",
      "standard deviation: 0.010017409300432613\n",
      "varience: 0.0001003484890923938\n"
     ]
    },
    {
     "data": {
      "image/png": "[encoded data removed]",
      "text/plain": [
       "<Figure size 432x288 with 1 Axes>"
      ]
     },
     "metadata": {
      "needs_background": "light"
     },
     "output_type": "display_data"
    }
   ],
   "source": [
    "#Question 3 , dimension = 1000\n",
    "DotProducts = vectorGen(1000,5000)\n",
    "#print(dotProdArr)\n",
    "\n",
    "#mean and SD\n",
    "mean = np.mean(DotProducts)\n",
    "print(\"mean:\", mean)\n",
    "standard_deviation = np.std(DotProducts)\n",
    "print(\"standard deviation:\", standard_deviation)\n",
    "varience = (standard_deviation)**2\n",
    "print(\"varience:\", varience)\n",
    "\n",
    "\n",
    "from matplotlib import pyplot as plt\n",
    "import numpy as np\n",
    "plt.hist(DotProducts, bins=100)\n",
    "plt.show()"
   ]
  },
  {
   "cell_type": "code",
   "execution_count": 41,
   "id": "0022a220",
   "metadata": {},
   "outputs": [
    {
     "name": "stdout",
     "output_type": "stream",
     "text": [
      "mean: 0.7500366290860159\n",
      "standard deviation: 0.007049720786261747\n",
      "varience: 4.969856316425095e-05\n"
     ]
    },
    {
     "data": {
      "image/png": "[encoded data removed]",
      "text/plain": [
       "<Figure size 432x288 with 1 Axes>"
      ]
     },
     "metadata": {
      "needs_background": "light"
     },
     "output_type": "display_data"
    }
   ],
   "source": [
    "#Question 3 , dimension = 2000\n",
    "DotProducts = vectorGen(2000,5000)\n",
    "#print(dotProdArr)\n",
    "\n",
    "#mean and SD\n",
    "mean = np.mean(DotProducts)\n",
    "print(\"mean:\", mean)\n",
    "standard_deviation = np.std(DotProducts)\n",
    "print(\"standard deviation:\", standard_deviation)\n",
    "varience = (standard_deviation)**2\n",
    "print(\"varience:\", varience)\n",
    "\n",
    "\n",
    "from matplotlib import pyplot as plt\n",
    "import numpy as np\n",
    "plt.hist(DotProducts, bins=100)\n",
    "plt.show()"
   ]
  },
  {
   "cell_type": "code",
   "execution_count": 42,
   "id": "6140ce8b",
   "metadata": {},
   "outputs": [],
   "source": [
    "#Question 4\n",
    "import random \n",
    "import numpy as np\n",
    "import array\n",
    "import math\n",
    "In_Circle= []\n",
    "def circle_numbers(times):\n",
    "    for x in range(times):\n",
    "        i=0\n",
    "        num1 = random.uniform(-1,1)\n",
    "        num2 = random.uniform(-1,1)\n",
    "        if num1**2 + num2**2 <=1:\n",
    "            i+=1\n",
    "            In_Circle.append(i)\n",
    "        Values_in_circle = len(In_Circle)\n",
    "        ratio = times/(Values_in_circle)\n",
    "    print(ratio)\n",
    "\n",
    "   "
   ]
  },
  {
   "cell_type": "code",
   "execution_count": 43,
   "id": "205ddc22",
   "metadata": {},
   "outputs": [
    {
     "name": "stdout",
     "output_type": "stream",
     "text": [
      "1.2736906460158957\n"
     ]
    }
   ],
   "source": [
    "circle_numbers(50000)"
   ]
  },
  {
   "cell_type": "code",
   "execution_count": null,
   "id": "d8721e32",
   "metadata": {},
   "outputs": [],
   "source": [
    "#Question 4 part g, description of results\n",
    "# As we run the loop a great number of times, we can see that the ratio \n",
    "#of ratio of total points to the points lying in the circle is the ratio of their areas\n",
    "# does in fact approach 4/pi \n",
    "# This we have calcuated by creating a function that runs a loop and generates x and y values, here labelled\n",
    "# as num1 and num2, and then utilising a counter, which adds one in an array which is tracking how many values fall in \n",
    "#the circle. As we can see, this is able to very closely able to be near 4/pi and therefore\n",
    "# we can say utilising the Monte-Carlo method that these values are infact uniformally distributed. \n",
    "\n"
   ]
  },
  {
   "cell_type": "code",
   "execution_count": null,
   "id": "23212f4e",
   "metadata": {},
   "outputs": [],
   "source": []
  },
  {
   "cell_type": "code",
   "execution_count": null,
   "id": "ba8b55c8",
   "metadata": {},
   "outputs": [],
   "source": []
  },
  {
   "cell_type": "code",
   "execution_count": null,
   "id": "f1274fe8",
   "metadata": {},
   "outputs": [],
   "source": []
  }
 ],
 "metadata": {
  "kernelspec": {
   "display_name": "Python 3",
   "language": "python",
   "name": "python3"
  },
  "language_info": {
   "codemirror_mode": {
    "name": "ipython",
    "version": 3
   },
   "file_extension": ".py",
   "mimetype": "text/x-python",
   "name": "python",
   "nbconvert_exporter": "python",
   "pygments_lexer": "ipython3",
   "version": "3.8.8"
  }
 },
 "nbformat": 4,
 "nbformat_minor": 5
}
