{
 "cells": [
  {
   "cell_type": "code",
   "execution_count": 528,
   "id": "f4aeffba",
   "metadata": {},
   "outputs": [
    {
     "name": "stdout",
     "output_type": "stream",
     "text": [
      "Cosine: 1.0\n",
      "Length of g': 1.0\n"
     ]
    }
   ],
   "source": [
    "#Question 1\n",
    "import numpy as np\n",
    "\n",
    "# Generating two vectors, f, g with random values\n",
    "f = np.random.randn(100)\n",
    "g = np.random.randn(100)\n",
    "\n",
    "#setting the mean to zero \n",
    "f -= np.mean(f)\n",
    "g -= np.mean(g)\n",
    "\n",
    "#normalising the vectors \n",
    "normalf =  f/np.linalg.norm(f)\n",
    "normalg =  g/np.linalg.norm(g)\n",
    "\n",
    "#computing A\n",
    "A = np.outer(normalg,normalf)\n",
    "#computing Af\n",
    "Af = np.dot(A,normalf)\n",
    "\n",
    "#computing g_prime\n",
    "g_prime = Af/np.linalg.norm(Af)\n",
    "\n",
    "dotProd = np.dot(normalg, g_prime)\n",
    "\n",
    "#computing the cosine between g and g'\n",
    "cosine = dotProd / ( np.linalg.norm(normalg) *np.linalg.norm(g_prime) )\n",
    "print(\"Cosine:\", cosine)\n",
    "\n",
    "#computing and printing the length of g'\n",
    "\n",
    "print(\"Length of g':\", np.linalg.norm(g_prime))"
   ]
  },
  {
   "cell_type": "code",
   "execution_count": 529,
   "id": "4702047c",
   "metadata": {},
   "outputs": [
    {
     "name": "stdout",
     "output_type": "stream",
     "text": [
      "cosine of fprime: 0.11549220118453565\n",
      "Length of Af': 0.11549220118453565\n"
     ]
    },
    {
     "data": {
      "text/plain": [
       "\"\\nThe length Af' and cosine of fprime are the same and thats because we are using the normalised version of f and fprime,\\nmeaning that they are both unit vectors, and therefore the angle between them and their length comes out to be the same\\n\\n\\n\""
      ]
     },
     "execution_count": 529,
     "metadata": {},
     "output_type": "execute_result"
    }
   ],
   "source": [
    "#Question 2\n",
    "\n",
    "\n",
    "#generating a new normalised vector f'\n",
    "f_prime = np.random.randn(100)\n",
    "normalfprime =  f_prime/np.linalg.norm(f_prime)\n",
    "\n",
    "#calculating the cosine between f_prime and f\n",
    "cosine_f_prime = (np.dot(normalf,normalfprime))/((np.linalg.norm(normalf))*(np.linalg.norm(normalfprime)))\n",
    "\n",
    "print(\"cosine of fprime:\",cosine_f_prime)\n",
    "\n",
    "#since cosine is close to 0, it is more orthogonal \n",
    "\n",
    "Af_prime = np.dot(A,normalfprime)\n",
    "\n",
    "print(\"Length of Af':\", np.linalg.norm(Af_prime))\n",
    "\n",
    "\n",
    "\"\"\"\n",
    "The length Af' and cosine of fprime are the same and thats because we are using the normalised version of f and fprime,\n",
    "meaning that they are both unit vectors, and therefore the angle between them and their length comes out to be the same\n",
    "\n",
    "\n",
    "\"\"\"\n"
   ]
  },
  {
   "cell_type": "code",
   "execution_count": 530,
   "id": "8f26d5ea",
   "metadata": {},
   "outputs": [
    {
     "name": "stdout",
     "output_type": "stream",
     "text": [
      "The transposed matrix is: [[-0.1840386   0.04450332 -0.04204071 ... -0.09332944  0.06527008\n",
      "   0.04955173]\n",
      " [-0.10507886 -0.06670949 -0.02300799 ... -0.01834051 -0.13311784\n",
      "  -0.0836493 ]\n",
      " [ 0.01685309  0.11934025 -0.01476867 ...  0.0027039  -0.10956811\n",
      "  -0.05977176]\n",
      " ...\n",
      " [-0.06348887  0.11497562 -0.00675351 ...  0.01958026  0.05267299\n",
      "  -0.13244342]\n",
      " [-0.02478409  0.11799435  0.03543558 ...  0.09493872  0.13557046\n",
      "  -0.01151646]\n",
      " [-0.03254278  0.00485942  0.04450816 ...  0.10210261  0.08482373\n",
      "  -0.05203869]]\n",
      "\n",
      "cosine g' is: 0.8477905996288637\n",
      "Length of g'is: 1.1190605896445542\n"
     ]
    }
   ],
   "source": [
    "#Question 3\n",
    "\n",
    "#generating many pairs of normalised random vectors, fi and gi , starting with 50 pairs \n",
    "A = np.zeros((100, 100))\n",
    "for x in range(50):\n",
    "                fi = np.random.randn(100)\n",
    "                normalisedfi = (fi) / np.linalg.norm(fi)\n",
    "                gi = np.random.randn(100)\n",
    "                normalisedgi = (gi) / np.linalg.norm(gi)\n",
    "                #computing the outer product matrices of fi and gi\n",
    "                Ai = (np.outer(normalisedfi, normalisedgi))\n",
    "                #creating the overall connectivity matrix of A as the sum of the individual outer product matrices\n",
    "                A += Ai\n",
    "                #transposing A as mentioned in the spec \n",
    "                transposed = np.transpose(A)\n",
    "\n",
    "print(\"The transposed matrix is:\", transposed)\n",
    "g_prime = np.dot(normalisedfi,A)\n",
    "print(              \"\")\n",
    "#print(\"g' is:\",g_prime)\n",
    "#np.shape(transposed)\n",
    "cosineg = (np.dot(gi, g_prime))/((np.linalg.norm(gi))*(np.linalg.norm(g_prime)))\n",
    "print(\"cosine g' is:\", cosineg)\n",
    "\n",
    "print(\"Length of g'is:\", np.linalg.norm(g_prime))"
   ]
  },
  {
   "cell_type": "code",
   "execution_count": 531,
   "id": "29714371",
   "metadata": {},
   "outputs": [
    {
     "name": "stdout",
     "output_type": "stream",
     "text": [
      "hiprime is: 7.011375154972547\n",
      "normalisedgi 1.0\n"
     ]
    }
   ],
   "source": [
    "#generating new random vectors hi\n",
    "#A = np.zeros((100, 100))\n",
    "for x in range(50):\n",
    "                hi = np.random.randn(100)\n",
    "hi_prime = np.dot(A, hi)\n",
    "#print(hi_prime)\n",
    "\n",
    "print(\"hiprime is:\",np.linalg.norm(hi_prime))\n",
    "print(\"normalisedgi\",np.linalg.norm(normalisedgi))\n",
    "#print(\"gprime\",np.linalg.norm(g_prime))"
   ]
  },
  {
   "cell_type": "code",
   "execution_count": 532,
   "id": "78c752b7",
   "metadata": {},
   "outputs": [
    {
     "name": "stdout",
     "output_type": "stream",
     "text": [
      "The transposed matrix is: [[ 0.00055442  0.0078986  -0.00370689 ...  0.01197744  0.01758431\n",
      "   0.0047979 ]\n",
      " [-0.00060862 -0.00867074  0.00406926 ... -0.01314831 -0.01930329\n",
      "  -0.00526693]\n",
      " [ 0.00054632  0.00778325 -0.00365276 ...  0.01180252  0.01732751\n",
      "   0.00472784]\n",
      " ...\n",
      " [ 0.00028805  0.00410373 -0.00192592 ...  0.0062229   0.00913596\n",
      "   0.00249276]\n",
      " [ 0.0002802   0.0039919  -0.00187344 ...  0.00605332  0.008887\n",
      "   0.00242483]\n",
      " [ 0.00024907  0.00354838 -0.00166529 ...  0.00538076  0.00789959\n",
      "   0.00215541]]\n",
      "\n",
      "cosine g' is: 0.9999999999999998\n",
      "Length of g'is: 1.0\n",
      "hiprime is: 2.498016860743333\n",
      "normalisedgi 0.9999999999999999\n"
     ]
    }
   ],
   "source": [
    "#Question 3e, 1 pair \n",
    "A = np.zeros((100, 100))\n",
    "for x in range(1):\n",
    "                fi = np.random.randn(100)\n",
    "                normalisedfi = (fi) / np.linalg.norm(fi)\n",
    "                gi = np.random.randn(100)\n",
    "                normalisedgi = (gi) / np.linalg.norm(gi)\n",
    "                Ai = (np.outer(normalisedfi, normalisedgi))\n",
    "                A += Ai\n",
    "                transposed = np.transpose(A)\n",
    "\n",
    "print(\"The transposed matrix is:\", transposed)\n",
    "g_prime = np.dot(normalisedfi,A)\n",
    "print(              \"\")\n",
    "#print(\"g' is:\",g_prime)\n",
    "#np.shape(transposed)\n",
    "cosineg = (np.dot(gi, g_prime))/((np.linalg.norm(gi))*(np.linalg.norm(g_prime)))\n",
    "print(\"cosine g' is:\", cosineg)\n",
    "\n",
    "print(\"Length of g'is:\", np.linalg.norm(g_prime))\n",
    "\n",
    "\n",
    "for x in range(1):\n",
    "                hi = np.random.randn(100)\n",
    "hi_prime = np.dot(A, hi)\n",
    "#print(hi_prime)\n",
    "\n",
    "print(\"hiprime is:\",np.linalg.norm(hi_prime))\n",
    "print(\"normalisedgi\",np.linalg.norm(normalisedgi))\n",
    "#print(\"gprime\",np.linalg.norm(g_prime))"
   ]
  },
  {
   "cell_type": "code",
   "execution_count": 533,
   "id": "a8ff8905",
   "metadata": {},
   "outputs": [
    {
     "name": "stdout",
     "output_type": "stream",
     "text": [
      "The transposed matrix is: [[-0.00718617  0.01754361 -0.01866736 ...  0.01404006  0.00430537\n",
      "   0.01947934]\n",
      " [-0.01116967  0.00420551  0.01435252 ...  0.04277579 -0.04800913\n",
      "  -0.00667574]\n",
      " [-0.02803359 -0.08190886  0.07355634 ...  0.11564218 -0.01912295\n",
      "  -0.04388862]\n",
      " ...\n",
      " [-0.02977243 -0.09350641 -0.04648423 ... -0.00210772  0.01785977\n",
      "  -0.0474537 ]\n",
      " [-0.00312222 -0.04202767  0.06675382 ...  0.11262282  0.02261402\n",
      "  -0.03459183]\n",
      " [-0.02791345  0.02202849 -0.03891026 ... -0.07926942  0.01132172\n",
      "  -0.00071385]]\n",
      "\n",
      "cosine g' is: 0.8302780967325835\n",
      "Length of g'is: 1.1561171726324564\n",
      "hiprime is: 4.119897619104559\n",
      "normalisedgi 0.9999999999999999\n"
     ]
    }
   ],
   "source": [
    "#Question 3e, 20 pair \n",
    "A = np.zeros((100, 100))\n",
    "for x in range(20):\n",
    "                fi = np.random.randn(100)\n",
    "                normalisedfi = (fi) / np.linalg.norm(fi)\n",
    "                gi = np.random.randn(100)\n",
    "                normalisedgi = (gi) / np.linalg.norm(gi)\n",
    "                Ai = (np.outer(normalisedfi, normalisedgi))\n",
    "                A += Ai\n",
    "                transposed = np.transpose(A)\n",
    "\n",
    "print(\"The transposed matrix is:\", transposed)\n",
    "g_prime = np.dot(normalisedfi,A)\n",
    "print(              \"\")\n",
    "#print(\"g' is:\",g_prime)\n",
    "#np.shape(transposed)\n",
    "cosineg = (np.dot(gi, g_prime))/((np.linalg.norm(gi))*(np.linalg.norm(g_prime)))\n",
    "print(\"cosine g' is:\", cosineg)\n",
    "\n",
    "print(\"Length of g'is:\", np.linalg.norm(g_prime))\n",
    "\n",
    "for x in range(20):\n",
    "                hi = np.random.randn(100)\n",
    "hi_prime = np.dot(A, hi)\n",
    "#print(hi_prime)\n",
    "\n",
    "print(\"hiprime is:\",np.linalg.norm(hi_prime))\n",
    "print(\"normalisedgi\",np.linalg.norm(normalisedgi))\n",
    "#print(\"gprime\",np.linalg.norm(g_prime))"
   ]
  },
  {
   "cell_type": "code",
   "execution_count": 534,
   "id": "a2e64951",
   "metadata": {},
   "outputs": [
    {
     "name": "stdout",
     "output_type": "stream",
     "text": [
      "The transposed matrix is: [[-0.0126706  -0.0192827  -0.1028579  ...  0.00209153 -0.01845077\n",
      "   0.11746513]\n",
      " [-0.02259126  0.11162289  0.07769595 ... -0.04384215 -0.06913084\n",
      "   0.09448962]\n",
      " [-0.00543862 -0.01819377 -0.01505022 ...  0.04919734 -0.01218712\n",
      "   0.07554851]\n",
      " ...\n",
      " [ 0.00435735  0.04837983  0.04500192 ...  0.08226908  0.05672468\n",
      "  -0.01886021]\n",
      " [ 0.01232222  0.01403593 -0.08309462 ... -0.00904761  0.01672135\n",
      "   0.15470901]\n",
      " [ 0.02578149  0.0305502  -0.05352892 ...  0.00162026 -0.06964371\n",
      "   0.11082397]]\n",
      "\n",
      "cosine g' is: 0.8552529126392913\n",
      "Length of g'is: 1.07620046478266\n",
      "hiprime is: 5.045972815566386\n",
      "normalisedgi 1.0\n"
     ]
    }
   ],
   "source": [
    "#Question 3e, 40 pair \n",
    "A = np.zeros((100, 100))\n",
    "for x in range(40):\n",
    "                fi = np.random.randn(100)\n",
    "                normalisedfi = (fi) / np.linalg.norm(fi)\n",
    "                gi = np.random.randn(100)\n",
    "                normalisedgi = (gi) / np.linalg.norm(gi)\n",
    "                Ai = (np.outer(normalisedfi, normalisedgi))\n",
    "                A += Ai\n",
    "                transposed = np.transpose(A)\n",
    "\n",
    "print(\"The transposed matrix is:\", transposed)\n",
    "g_prime = np.dot(normalisedfi,A)\n",
    "print(              \"\")\n",
    "#print(\"g' is:\",g_prime)\n",
    "#np.shape(transposed)\n",
    "cosineg = (np.dot(gi, g_prime))/((np.linalg.norm(gi))*(np.linalg.norm(g_prime)))\n",
    "print(\"cosine g' is:\", cosineg)\n",
    "\n",
    "print(\"Length of g'is:\", np.linalg.norm(g_prime))\n",
    "\n",
    "\n",
    "for x in range(40):\n",
    "                hi = np.random.randn(100)\n",
    "hi_prime = np.dot(A, hi)\n",
    "#print(hi_prime)\n",
    "\n",
    "print(\"hiprime is:\",np.linalg.norm(hi_prime))\n",
    "print(\"normalisedgi\",np.linalg.norm(normalisedgi))\n",
    "#print(\"gprime\",np.linalg.norm(g_prime))"
   ]
  },
  {
   "cell_type": "code",
   "execution_count": 535,
   "id": "b1e936e1",
   "metadata": {},
   "outputs": [
    {
     "name": "stdout",
     "output_type": "stream",
     "text": [
      "The transposed matrix is: [[-0.03558302 -0.03573123 -0.11389184 ... -0.04690719  0.00264414\n",
      "  -0.00622293]\n",
      " [-0.0234024  -0.0047181  -0.04502031 ...  0.04463122  0.05522833\n",
      "  -0.02347649]\n",
      " [-0.03911911 -0.12799003  0.02093307 ... -0.18313991 -0.00178797\n",
      "  -0.0294208 ]\n",
      " ...\n",
      " [ 0.11880767  0.1229767   0.07916299 ... -0.00368863  0.07868486\n",
      "  -0.0230868 ]\n",
      " [ 0.10968378  0.07199083 -0.11454697 ...  0.09055432  0.02155744\n",
      "   0.117572  ]\n",
      " [-0.05684547  0.06765821  0.08823354 ...  0.05330983 -0.03271672\n",
      "  -0.02039906]]\n",
      "\n",
      "cosine g' is: 0.8104541849389587\n",
      "Length of g'is: 1.2072187333864346\n",
      "hiprime is: 6.968803201311233\n",
      "normalisedgi 0.9999999999999999\n"
     ]
    }
   ],
   "source": [
    "#Question 3e, 60 pair \n",
    "A = np.zeros((100, 100))\n",
    "for x in range(60):\n",
    "                fi = np.random.randn(100)\n",
    "                normalisedfi = (fi) / np.linalg.norm(fi)\n",
    "                gi = np.random.randn(100)\n",
    "                normalisedgi = (gi) / np.linalg.norm(gi)\n",
    "                Ai = (np.outer(normalisedfi, normalisedgi))\n",
    "                A += Ai\n",
    "                transposed = np.transpose(A)\n",
    "\n",
    "print(\"The transposed matrix is:\", transposed)\n",
    "g_prime = np.dot(normalisedfi,A)\n",
    "print(              \"\")\n",
    "#print(\"g' is:\",g_prime)\n",
    "#np.shape(transposed)\n",
    "cosineg = (np.dot(gi, g_prime))/((np.linalg.norm(gi))*(np.linalg.norm(g_prime)))\n",
    "print(\"cosine g' is:\", cosineg)\n",
    "\n",
    "print(\"Length of g'is:\", np.linalg.norm(g_prime))\n",
    "\n",
    "for x in range(60):\n",
    "                hi = np.random.randn(100)\n",
    "hi_prime = np.dot(A, hi)\n",
    "#print(hi_prime)\n",
    "\n",
    "print(\"hiprime is:\",np.linalg.norm(hi_prime))\n",
    "print(\"normalisedgi\",np.linalg.norm(normalisedgi))\n",
    "#print(\"gprime\",np.linalg.norm(g_prime))"
   ]
  },
  {
   "cell_type": "code",
   "execution_count": 536,
   "id": "efb10167",
   "metadata": {},
   "outputs": [
    {
     "name": "stdout",
     "output_type": "stream",
     "text": [
      "The transposed matrix is: [[ 0.14755899  0.01179542  0.0935897  ...  0.16367338  0.02281573\n",
      "   0.01570645]\n",
      " [ 0.04300776 -0.06602524  0.20155801 ...  0.2049273   0.01100424\n",
      "  -0.07228134]\n",
      " [-0.09596926 -0.18957164 -0.07555782 ... -0.00163956  0.04305601\n",
      "   0.02779423]\n",
      " ...\n",
      " [-0.05109055 -0.07184098  0.08498554 ... -0.08543922 -0.04532861\n",
      "  -0.02352632]\n",
      " [ 0.1292342   0.00879436 -0.07536436 ...  0.00847972  0.10551526\n",
      "   0.06007823]\n",
      " [-0.02555556  0.03285899 -0.16786326 ... -0.01295258 -0.03330304\n",
      "  -0.04562988]]\n",
      "\n",
      "cosine g' is: 0.6814818807037294\n",
      "Length of g'is: 1.3167349310401142\n",
      "hiprime is: 11.442502468240983\n",
      "normalisedgi 1.0\n"
     ]
    }
   ],
   "source": [
    "#Question 3e, 80 pair \n",
    "A = np.zeros((100, 100))\n",
    "for x in range(80):\n",
    "                fi = np.random.randn(100)\n",
    "                normalisedfi = (fi) / np.linalg.norm(fi)\n",
    "                gi = np.random.randn(100)\n",
    "                normalisedgi = (gi) / np.linalg.norm(gi)\n",
    "                Ai = (np.outer(normalisedfi, normalisedgi))\n",
    "                A += Ai\n",
    "                transposed = np.transpose(A)\n",
    "\n",
    "print(\"The transposed matrix is:\", transposed)\n",
    "g_prime = np.dot(normalisedfi,A)\n",
    "print(              \"\")\n",
    "#print(\"g' is:\",g_prime)\n",
    "#np.shape(transposed)\n",
    "cosineg = (np.dot(gi, g_prime))/((np.linalg.norm(gi))*(np.linalg.norm(g_prime)))\n",
    "print(\"cosine g' is:\", cosineg)\n",
    "\n",
    "print(\"Length of g'is:\", np.linalg.norm(g_prime))\n",
    "\n",
    "for x in range(80):\n",
    "                hi = np.random.randn(100)\n",
    "hi_prime = np.dot(A, hi)\n",
    "#print(hi_prime)\n",
    "\n",
    "print(\"hiprime is:\",np.linalg.norm(hi_prime))\n",
    "print(\"normalisedgi\",np.linalg.norm(normalisedgi))\n",
    "#print(\"gprime\",np.linalg.norm(g_prime))"
   ]
  },
  {
   "cell_type": "code",
   "execution_count": 537,
   "id": "98ac6a93",
   "metadata": {},
   "outputs": [
    {
     "name": "stdout",
     "output_type": "stream",
     "text": [
      "The transposed matrix is: [[-0.006239   -0.01627246 -0.06147757 ... -0.02163877 -0.10620124\n",
      "  -0.04080019]\n",
      " [-0.01875338 -0.16871971  0.04237577 ...  0.05062163  0.0395837\n",
      "   0.09318284]\n",
      " [-0.0963019   0.03045376  0.09634896 ... -0.09947355  0.21903676\n",
      "  -0.10234616]\n",
      " ...\n",
      " [-0.11297491  0.01237081  0.14273181 ...  0.03908032 -0.24036335\n",
      "  -0.01899796]\n",
      " [ 0.21024836 -0.07254138 -0.01404014 ... -0.13233644 -0.04202576\n",
      "   0.07185192]\n",
      " [-0.10012882  0.09541859 -0.03506153 ...  0.10874243  0.17956049\n",
      "   0.05222238]]\n",
      "\n",
      "cosine g' is: 0.7820589759825463\n",
      "Length of g'is: 1.4051498128422768\n",
      "hiprime is: 9.614000407479356\n",
      "normalisedgi 1.0\n"
     ]
    }
   ],
   "source": [
    "#Question 3e,100pair\n",
    "A = np.zeros((100, 100))\n",
    "for x in range(100):\n",
    "                fi = np.random.randn(100)\n",
    "                normalisedfi = (fi) / np.linalg.norm(fi)\n",
    "                gi = np.random.randn(100)\n",
    "                normalisedgi = (gi) / np.linalg.norm(gi)\n",
    "                Ai = (np.outer(normalisedfi, normalisedgi))\n",
    "                A += Ai\n",
    "                transposed = np.transpose(A)\n",
    "\n",
    "print(\"The transposed matrix is:\", transposed)\n",
    "g_prime = np.dot(normalisedfi,A)\n",
    "print(              \"\")\n",
    "#print(\"g' is:\",g_prime)\n",
    "#np.shape(transposed)\n",
    "cosineg = (np.dot(gi, g_prime))/((np.linalg.norm(gi))*(np.linalg.norm(g_prime)))\n",
    "print(\"cosine g' is:\", cosineg)\n",
    "\n",
    "print(\"Length of g'is:\", np.linalg.norm(g_prime))\n",
    "\n",
    "for x in range(100):\n",
    "                hi = np.random.randn(100)\n",
    "hi_prime = np.dot(A, hi)\n",
    "#print(hi_prime)\n",
    "\n",
    "print(\"hiprime is:\",np.linalg.norm(hi_prime))\n",
    "print(\"normalisedgi\",np.linalg.norm(normalisedgi))\n",
    "#print(\"gprime\",np.linalg.norm(g_prime))"
   ]
  },
  {
   "cell_type": "code",
   "execution_count": 538,
   "id": "695495de",
   "metadata": {},
   "outputs": [
    {
     "data": {
      "text/plain": [
       "\"\\nPATTERNS AND OBSERVATIONS FROM QUESTION 3 PART E\\n\\nThe pattern noticed from running question 3 part e is that, as the question states, the behavior of the system deteriorates as more and more vectors are stored.  \\nWhen we have 1 pair, then the results are almost perfect with cosine g', length of g', hiprime, and normalisedgi all\\nbeing close to 1.0\\n\\nHowever, as we progressively increase the numbers of pairs stored, the system deteriorates and the values eventually start\\nchanging except for normalised gi, due to the fact that its a normalised variable, dwindles around 0.9999 to 1.0 consistently\\n\\n\\nThe values change rapidly so for hiprime,increasing throughout, going from being close to 1.0 for 1 pair to close to/above 10 for 100 pairs\\n\\nThe values for cosine g' start decreasing, starting off at close to 1.0 for 1 pair and eventually progressing down\\nto around 0.7 for 100 pairs\\n\\nThe length of g' also progressively mostly increases going from 1.0 to closer to 1.0\\n\\n\\n\""
      ]
     },
     "execution_count": 538,
     "metadata": {},
     "output_type": "execute_result"
    }
   ],
   "source": [
    "\"\"\"\n",
    "PATTERNS AND OBSERVATIONS FROM QUESTION 3 PART E\n",
    "\n",
    "The pattern noticed from running question 3 part e is that, as the question states, the behavior of the system deteriorates as more and more vectors are stored.  \n",
    "When we have 1 pair, then the results are almost perfect with cosine g', length of g', hiprime, and normalisedgi all\n",
    "being close to 1.0\n",
    "\n",
    "However, as we progressively increase the numbers of pairs stored, the system deteriorates and the values eventually start\n",
    "changing except for normalised gi, due to the fact that its a normalised variable, dwindles around 0.9999 to 1.0 consistently\n",
    "\n",
    "\n",
    "The values change rapidly so for hiprime,increasing throughout, going from being close to 1.0 for 1 pair to close to/above 10 for 100 pairs\n",
    "\n",
    "The values for cosine g' start decreasing, starting off at close to 1.0 for 1 pair and eventually progressing down\n",
    "to around 0.7 for 100 pairs\n",
    "\n",
    "The length of g' also progressively mostly increases going from 1.0 to closer to 1.0\n",
    "\n",
    "\n",
    "\"\"\"\n",
    "\n",
    "\n",
    "\n",
    "\n",
    "\n",
    "\n"
   ]
  },
  {
   "cell_type": "code",
   "execution_count": 539,
   "id": "b927db14",
   "metadata": {},
   "outputs": [
    {
     "data": {
      "text/plain": [
       "'\\nQUESTION 4 PART A\\n\\nThis question requires us to carry out numerical ablation on the matrix and randomly setting different \\nvalues of the matrix to be 0 to see how robust the matrix is to damage and to noise, and seeing how that changes the output\\n\\nSo the question itself states that of \"matrix models is generally felt to be their resistance to noise and damage.\\nAlthough this statement is often made, it is seldom actually demonstrated.\"\\n\\nSo before this is begun, some key terminology of how the robustness and resistance of the matrix model can be evaluated\\n\\nTesting the resilience of a model can be done through changing some parts of it to be 0 and then essentially comparing \\nit to the original and seeing the cosine similarity between the ablated matrix (i.e where some percent of its values have been made to be 0)and \\nthe original matrix. Cosine similarity represents  the similarity between two vectors, and it ranges from -1 to 1.\\n\\n\\nWhat do different cosine similarities mean?\\n\\n1. A small cosine similarity represents that the two matrices are dissimilar \\n2. cosine similarity = 1 implies that the vectors are identical and point in the same direction\\n3. cosine similarity = -1 implies that the vectors are identical and point in opposite directions.\\n4. cosine similarity = 0 implies that the vectors are orthogonal and point in  different directions.\\n\\n\\nFor this question I will run the numerical ablation of matrix A by incrementally changing\\nthe ablation percentages in increments of 20 \\n\\nTherefore the ablations I will do will be of 20%, 40%, 60%, 80% and then I will see and evaluate \\nits cosine similarity based on the above parameters to see whether our matrix A is truly\\nresilient to noise and damage, and that the individual elements dont add / change the matrix A all that much \\n\\n'"
      ]
     },
     "execution_count": 539,
     "metadata": {},
     "output_type": "execute_result"
    }
   ],
   "source": [
    "\"\"\"\n",
    "QUESTION 4 PART A\n",
    "\n",
    "This question requires us to carry out numerical ablation on the matrix and randomly setting different \n",
    "values of the matrix to be 0 to see how robust the matrix is to damage and to noise, and seeing how that changes the output\n",
    "\n",
    "So the question itself states that of \"matrix models is generally felt to be their resistance to noise and damage.\n",
    "Although this statement is often made, it is seldom actually demonstrated.\"\n",
    "\n",
    "So before this is begun, some key terminology of how the robustness and resistance of the matrix model can be evaluated\n",
    "\n",
    "Testing the resilience of a model can be done through changing some parts of it to be 0 and then essentially comparing \n",
    "it to the original and seeing the cosine similarity between the ablated matrix (i.e where some percent of its values have been made to be 0)and \n",
    "the original matrix. Cosine similarity represents  the similarity between two vectors, and it ranges from -1 to 1.\n",
    "\n",
    "\n",
    "What do different cosine similarities mean?\n",
    "\n",
    "1. A small cosine similarity represents that the two matrices are dissimilar \n",
    "2. cosine similarity = 1 implies that the vectors are identical and point in the same direction\n",
    "3. cosine similarity = -1 implies that the vectors are identical and point in opposite directions.\n",
    "4. cosine similarity = 0 implies that the vectors are orthogonal and point in  different directions.\n",
    "\n",
    "\n",
    "For this question I will run the numerical ablation of matrix A by incrementally changing\n",
    "the ablation percentages in increments of 20 \n",
    "\n",
    "Therefore the ablations I will do will be of 20%, 40%, 60%, 80% and then I will see and evaluate \n",
    "its cosine similarity based on the above parameters to see whether our matrix A is truly\n",
    "resilient to noise and damage, and that the individual elements dont add / change the matrix A all that much \n",
    "\n",
    "\"\"\""
   ]
  },
  {
   "cell_type": "code",
   "execution_count": 521,
   "id": "d2de1321",
   "metadata": {},
   "outputs": [
    {
     "name": "stdout",
     "output_type": "stream",
     "text": [
      "Cosine similarity: [[-6.05136612e-04 -1.05250545e-03  4.16405469e-04 ... -1.04947232e-03\n",
      "   1.41523399e-04 -2.02281991e-04]\n",
      " [ 1.72456357e-03  1.14830867e-04  7.95721746e-05 ...  9.67304133e-04\n",
      "  -2.78040104e-04  1.34293829e-04]\n",
      " [ 7.88654203e-04 -2.27368233e-04  2.55061243e-04 ... -1.32818965e-04\n",
      "  -2.04550947e-03 -9.15096011e-04]\n",
      " ...\n",
      " [-1.60552696e-03  8.64007819e-04  6.63174262e-04 ... -7.43697779e-04\n",
      "   8.36176990e-04  3.55283846e-04]\n",
      " [-5.89481040e-04  3.29584297e-04  1.16007734e-03 ... -3.57060495e-04\n",
      "   1.55435621e-03  1.48021256e-04]\n",
      " [-7.85384114e-04  8.33489649e-04 -3.61842148e-04 ...  4.47574645e-04\n",
      "   1.06268838e-03  5.48946867e-04]]\n"
     ]
    },
    {
     "data": {
      "text/plain": [
       "'\\nThe cosine similarity here is very small(close to 0) and ocassionally negative at 20% ablation, implying that \\nthe matrices may be disimilar \\n'"
      ]
     },
     "execution_count": 521,
     "metadata": {},
     "output_type": "execute_result"
    }
   ],
   "source": [
    "#Question 4, 20% ablation\n",
    "originalMatrix = A\n",
    "\n",
    "\n",
    "# Copying A to another matrix to preserve \n",
    "ablatedMatrix = originalMatrix.copy()\n",
    "\n",
    "# Setting different percentages of random elements in the ablated matrix to zero\n",
    "ablationPerc = 0.2 # 20% ablation\n",
    "ElemToAblate = int(ablationPerc * ablatedMatrix.size)\n",
    "indices_to_ablate = np.random.choice(ablatedMatrix.size, ElemToAblate, replace=False)\n",
    "ablatedMatrix.flat[indices_to_ablate] = 0\n",
    "\n",
    "\n",
    "# Calculate the cosine similarity between the original and ablated matrices\n",
    "originalMatrixNorm = np.linalg.norm(originalMatrix)\n",
    "ablatedMatrixNorm = np.linalg.norm(ablatedMatrix)\n",
    "cosineSimilarity = (np.dot(originalMatrix, ablatedMatrix) / (originalMatrixNorm * ablatedMatrixNorm))\n",
    "print(\"Cosine similarity:\", cosineSimilarity)\n",
    "\n",
    "\n",
    "\"\"\"\n",
    "The cosine similarity here is very small(close to 0) and ocassionally negative at 20% ablation, implying that \n",
    "the matrices may be disimilar \n",
    "\"\"\""
   ]
  },
  {
   "cell_type": "code",
   "execution_count": 522,
   "id": "c00d43ea",
   "metadata": {},
   "outputs": [
    {
     "name": "stdout",
     "output_type": "stream",
     "text": [
      "Cosine similarity: [[-0.00154005 -0.00034687  0.00022968 ... -0.00097437  0.00042185\n",
      "  -0.00021922]\n",
      " [ 0.001279    0.00100006  0.00045473 ...  0.00031783 -0.00095704\n",
      "  -0.00024771]\n",
      " [ 0.00097787 -0.00031577  0.00026895 ...  0.00024753 -0.00104531\n",
      "  -0.00154656]\n",
      " ...\n",
      " [-0.00098981 -0.00051645 -0.00019393 ... -0.00147141  0.0003331\n",
      "  -0.00050959]\n",
      " [-0.00028749 -0.00151071  0.00107609 ... -0.0006996   0.00089878\n",
      "  -0.00054289]\n",
      " [-0.00155306 -0.001488   -0.00143241 ...  0.00173787  0.00064752\n",
      "  -0.00040022]]\n"
     ]
    },
    {
     "data": {
      "text/plain": [
       "' \\nThe cosine similarity here is even smaller than at 20% and ocassionally negative at 40% ablation, implying that \\nthe matrices may be disimilar \\n'"
      ]
     },
     "execution_count": 522,
     "metadata": {},
     "output_type": "execute_result"
    }
   ],
   "source": [
    "#Question 4, 40% ablation\n",
    "originalMatrix = A\n",
    "\n",
    "\n",
    "# Copying A to another matrix to preserve \n",
    "ablatedMatrix = originalMatrix.copy()\n",
    "\n",
    "# Setting different percentages of random elements in the ablated matrix to zero\n",
    "ablationPerc = 0.4 # 40% ablation\n",
    "ElemToAblate = int(ablationPerc * ablatedMatrix.size)\n",
    "indices_to_ablate = np.random.choice(ablatedMatrix.size, ElemToAblate, replace=False)\n",
    "ablatedMatrix.flat[indices_to_ablate] = 0\n",
    "\n",
    "\n",
    "# Calculate the cosine similarity between the original and ablated matrices\n",
    "originalMatrixNorm = np.linalg.norm(originalMatrix)\n",
    "ablatedMatrixNorm = np.linalg.norm(ablatedMatrix)\n",
    "cosineSimilarity = (np.dot(originalMatrix, ablatedMatrix) / (originalMatrixNorm * ablatedMatrixNorm))\n",
    "print(\"Cosine similarity:\", cosineSimilarity)\n",
    "\n",
    "\n",
    "\n",
    "\"\"\" \n",
    "The cosine similarity here is even smaller than at 20% and ocassionally negative at 40% ablation, implying that \n",
    "the matrices may be disimilar \n",
    "\"\"\"\n",
    "\n"
   ]
  },
  {
   "cell_type": "code",
   "execution_count": 523,
   "id": "e857f0ac",
   "metadata": {},
   "outputs": [
    {
     "name": "stdout",
     "output_type": "stream",
     "text": [
      "Cosine similarity: [[-1.08173643e-03 -2.76400899e-04  4.84828244e-04 ... -2.20641380e-03\n",
      "  -9.92822060e-05 -1.52514589e-03]\n",
      " [ 8.05765288e-04  1.66328099e-03  1.14106068e-03 ...  9.52725292e-04\n",
      "  -3.71686184e-04 -3.18099636e-04]\n",
      " [ 1.36763282e-03 -7.82295093e-04 -4.08737776e-04 ... -9.28109900e-04\n",
      "  -7.31947208e-04 -1.00154350e-03]\n",
      " ...\n",
      " [-7.76355617e-04  1.41602380e-03  1.55207855e-04 ...  1.79362138e-03\n",
      "   9.01785626e-04  6.88797816e-04]\n",
      " [ 5.96354693e-04 -3.18633808e-04  2.31120711e-04 ...  2.80968663e-04\n",
      "   2.21624481e-03  6.22035717e-05]\n",
      " [-7.87147420e-04 -7.93221000e-04 -1.29662191e-03 ...  1.81952358e-04\n",
      "   6.10151746e-04 -7.27613885e-04]]\n"
     ]
    },
    {
     "data": {
      "text/plain": [
       "' \\nThe cosine similarity here is even smaller than at 40% and ocassionally negative at 60% ablation, implying that \\nthe matrices may be disimilar \\n'"
      ]
     },
     "execution_count": 523,
     "metadata": {},
     "output_type": "execute_result"
    }
   ],
   "source": [
    "#Question 4, 60% ablation\n",
    "originalMatrix = A\n",
    "\n",
    "\n",
    "# Copying A to another matrix to preserve \n",
    "ablatedMatrix = originalMatrix.copy()\n",
    "\n",
    "# Setting different percentages of random elements in the ablated matrix to zero\n",
    "ablationPerc = 0.6 # 60% ablation\n",
    "ElemToAblate = int(ablationPerc * ablatedMatrix.size)\n",
    "indices_to_ablate = np.random.choice(ablatedMatrix.size, ElemToAblate, replace=False)\n",
    "ablatedMatrix.flat[indices_to_ablate] = 0\n",
    "\n",
    "\n",
    "# Calculate the cosine similarity between the original and ablated matrices\n",
    "originalMatrixNorm = np.linalg.norm(originalMatrix)\n",
    "ablatedMatrixNorm = np.linalg.norm(ablatedMatrix)\n",
    "cosineSimilarity = (np.dot(originalMatrix, ablatedMatrix) / (originalMatrixNorm * ablatedMatrixNorm))\n",
    "print(\"Cosine similarity:\", cosineSimilarity)\n",
    "\n",
    "\n",
    "\"\"\" \n",
    "The cosine similarity here is even smaller than at 40% and ocassionally negative at 60% ablation, implying that \n",
    "the matrices may be disimilar \n",
    "\"\"\""
   ]
  },
  {
   "cell_type": "code",
   "execution_count": 524,
   "id": "e5b9fb40",
   "metadata": {},
   "outputs": [
    {
     "name": "stdout",
     "output_type": "stream",
     "text": [
      "Cosine similarity: [[-1.37277793e-03 -5.27695819e-04 -8.73016987e-04 ... -1.56748337e-03\n",
      "   1.16148412e-04 -2.76057873e-04]\n",
      " [ 1.81696515e-04 -1.39942651e-03 -7.03422524e-04 ...  1.33176469e-03\n",
      "  -3.36813849e-04 -5.76299161e-04]\n",
      " [ 5.70587968e-04  3.83311584e-04  1.20457641e-03 ... -8.10917065e-04\n",
      "  -1.28102286e-03 -1.41998881e-03]\n",
      " ...\n",
      " [-9.95622254e-04  8.76324311e-04 -1.03481757e-03 ... -3.76723973e-05\n",
      "  -3.49585517e-04  1.15087657e-04]\n",
      " [ 7.52657170e-04 -7.87445140e-04  5.51022240e-04 ... -1.31391570e-03\n",
      "   6.46501006e-04  1.00032897e-04]\n",
      " [-1.32519015e-03  5.28807147e-04 -1.98642435e-03 ...  2.26255459e-03\n",
      "   1.71305719e-04 -5.27115756e-05]]\n"
     ]
    },
    {
     "data": {
      "text/plain": [
       "' \\nThe cosine similarity here is even smaller than at 60% and ocassionally negative at 80% ablation, implying that \\nthe matrices may be disimilar \\n'"
      ]
     },
     "execution_count": 524,
     "metadata": {},
     "output_type": "execute_result"
    }
   ],
   "source": [
    "#Question 4, 80% ablation\n",
    "originalMatrix = A\n",
    "\n",
    "\n",
    "# Copying A to another matrix to preserve \n",
    "ablatedMatrix = originalMatrix.copy()\n",
    "\n",
    "# Setting different percentages of random elements in the ablated matrix to zero\n",
    "ablationPerc = 0.8 # 80% ablation\n",
    "ElemToAblate = int(ablationPerc * ablatedMatrix.size)\n",
    "indices_to_ablate = np.random.choice(ablatedMatrix.size, ElemToAblate, replace=False)\n",
    "ablatedMatrix.flat[indices_to_ablate] = 0\n",
    "\n",
    "\n",
    "# Calculate the cosine similarity between the original and ablated matrices\n",
    "originalMatrixNorm = np.linalg.norm(originalMatrix)\n",
    "ablatedMatrixNorm = np.linalg.norm(ablatedMatrix)\n",
    "cosineSimilarity = (np.dot(originalMatrix, ablatedMatrix) / (originalMatrixNorm * ablatedMatrixNorm))\n",
    "print(\"Cosine similarity:\", cosineSimilarity)\n",
    "\n",
    "\n",
    "\"\"\" \n",
    "The cosine similarity here is even smaller than at 60% and ocassionally negative at 80% ablation, implying that \n",
    "the matrices may be disimilar \n",
    "\"\"\""
   ]
  },
  {
   "cell_type": "code",
   "execution_count": 525,
   "id": "6520d87a",
   "metadata": {},
   "outputs": [
    {
     "data": {
      "text/plain": [
       "'\\nTherefore it seems like at all levels of ablation, especially increasing ablation, the cosine similarity becomes smaller a\\nand smaller meaning that in practicality matrix A is not resistant to noise and damage when numerical ablation, i.e turning\\nsome random variables in matrix A to 0, takes place.\\n'"
      ]
     },
     "execution_count": 525,
     "metadata": {},
     "output_type": "execute_result"
    }
   ],
   "source": [
    "\"\"\"\n",
    "Therefore it seems like at all levels of ablation, especially increasing ablation, the cosine similarity becomes smaller a\n",
    "and smaller meaning that in practicality matrix A is not resistant to noise and damage when numerical ablation, i.e turning\n",
    "some random variables in matrix A to 0, takes place.\n",
    "\"\"\""
   ]
  },
  {
   "cell_type": "code",
   "execution_count": null,
   "id": "1f6acb2d",
   "metadata": {},
   "outputs": [],
   "source": []
  },
  {
   "cell_type": "code",
   "execution_count": null,
   "id": "e93b2ffe",
   "metadata": {},
   "outputs": [],
   "source": []
  },
  {
   "cell_type": "code",
   "execution_count": null,
   "id": "c07b1cc0",
   "metadata": {},
   "outputs": [],
   "source": []
  },
  {
   "cell_type": "code",
   "execution_count": null,
   "id": "39ec8e11",
   "metadata": {},
   "outputs": [],
   "source": []
  }
 ],
 "metadata": {
  "kernelspec": {
   "display_name": "Python 3",
   "language": "python",
   "name": "python3"
  },
  "language_info": {
   "codemirror_mode": {
    "name": "ipython",
    "version": 3
   },
   "file_extension": ".py",
   "mimetype": "text/x-python",
   "name": "python",
   "nbconvert_exporter": "python",
   "pygments_lexer": "ipython3",
   "version": "3.8.8"
  }
 },
 "nbformat": 4,
 "nbformat_minor": 5
}
